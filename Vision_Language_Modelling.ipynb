{
 "cells": [
  {
   "cell_type": "code",
   "execution_count": 1,
   "metadata": {},
   "outputs": [],
   "source": [
    "!pip install -qqq easy-vqa\n",
    "!pip install -qqq sentence_transformers transformers timm"
   ]
  },
  {
   "cell_type": "code",
   "execution_count": 3,
   "metadata": {},
   "outputs": [],
   "source": [
    "from easy_vqa import get_train_questions, get_test_questions\n",
    "\n",
    "train_questions,train_answers,train_image_ids=get_train_questions()\n",
    "test_questions,test_answers,test_image_ids=get_test_questions()"
   ]
  },
  {
   "cell_type": "code",
   "execution_count": 7,
   "metadata": {},
   "outputs": [],
   "source": [
    "import pandas as pd\n",
    "\n",
    "pd.set_option(\"max_colwidth\", None)\n",
    "\n",
    "def gen_dataframes(questions,answers,image_ids,mode=\"train\"):\n",
    "    records=[]\n",
    "    for question,answer, image_id in zip(questions,answers,image_ids):\n",
    "        image_path=f\"/usr/local/lib/python3.7/dist-packages/easy_vqa/data/{mode}/images/{image_id}.png\"\n",
    "        records.append({\"question\" : question, \"answer\": answer, \"image_path\": image_path})\n",
    "    return pd.DataFrame(records)\n",
    "\n",
    "df=gen_dataframes(train_questions,train_answers,train_image_ids)\n",
    "\n",
    "from sklearn.model_selection import train_test_split\n",
    "df=df.sample(frac=1)\n",
    "train_df,eval_df = train_test_split(df)\n",
    "test_df=gen_dataframes(test_questions,test_answers,test_image_ids,mode=\"test\")"
   ]
  },
  {
   "cell_type": "code",
   "execution_count": 9,
   "metadata": {},
   "outputs": [
    {
     "name": "stdout",
     "output_type": "stream",
     "text": [
      "(28931, 3)\n",
      "(9644, 3)\n",
      "(9673, 3)\n"
     ]
    }
   ],
   "source": [
    "print(train_df.shape)\n",
    "print(eval_df.shape)\n",
    "print(test_df.shape)"
   ]
  },
  {
   "cell_type": "code",
   "execution_count": 10,
   "metadata": {},
   "outputs": [
    {
     "name": "stdout",
     "output_type": "stream",
     "text": [
      "Total Labels:  13\n"
     ]
    }
   ],
   "source": [
    "from easy_vqa import get_answers\n",
    "\n",
    "answers=get_answers()\n",
    "print(\"Total Labels: \",len(answers))\n",
    "label2idx={answer:i for i, answer in enumerate(answers)}"
   ]
  },
  {
   "cell_type": "code",
   "execution_count": 11,
   "metadata": {},
   "outputs": [
    {
     "data": {
      "text/plain": [
       "{'circle': 0,\n",
       " 'green': 1,\n",
       " 'red': 2,\n",
       " 'gray': 3,\n",
       " 'yes': 4,\n",
       " 'teal': 5,\n",
       " 'black': 6,\n",
       " 'rectangle': 7,\n",
       " 'yellow': 8,\n",
       " 'triangle': 9,\n",
       " 'brown': 10,\n",
       " 'blue': 11,\n",
       " 'no': 12}"
      ]
     },
     "execution_count": 11,
     "metadata": {},
     "output_type": "execute_result"
    }
   ],
   "source": [
    "label2idx"
   ]
  },
  {
   "cell_type": "code",
   "execution_count": 12,
   "metadata": {},
   "outputs": [],
   "source": [
    "train_df[\"label\"]=train_df[\"answer\"].apply(lambda x: label2idx.get(x))\n",
    "eval_df[\"label\"]=eval_df[\"answer\"].apply(lambda x: label2idx.get(x))\n",
    "test_df[\"label\"]=test_df[\"answer\"].apply(lambda x: label2idx.get(x))"
   ]
  },
  {
   "cell_type": "code",
   "execution_count": 13,
   "metadata": {},
   "outputs": [
    {
     "data": {
      "text/html": [
       "<div>\n",
       "<style scoped>\n",
       "    .dataframe tbody tr th:only-of-type {\n",
       "        vertical-align: middle;\n",
       "    }\n",
       "\n",
       "    .dataframe tbody tr th {\n",
       "        vertical-align: top;\n",
       "    }\n",
       "\n",
       "    .dataframe thead th {\n",
       "        text-align: right;\n",
       "    }\n",
       "</style>\n",
       "<table border=\"1\" class=\"dataframe\">\n",
       "  <thead>\n",
       "    <tr style=\"text-align: right;\">\n",
       "      <th></th>\n",
       "      <th>question</th>\n",
       "      <th>answer</th>\n",
       "      <th>image_path</th>\n",
       "      <th>label</th>\n",
       "    </tr>\n",
       "  </thead>\n",
       "  <tbody>\n",
       "    <tr>\n",
       "      <th>13418</th>\n",
       "      <td>is there not a teal shape?</td>\n",
       "      <td>yes</td>\n",
       "      <td>/usr/local/lib/python3.7/dist-packages/easy_vqa/data/train/images/1395.png</td>\n",
       "      <td>4</td>\n",
       "    </tr>\n",
       "    <tr>\n",
       "      <th>24795</th>\n",
       "      <td>does the image contain a circle?</td>\n",
       "      <td>no</td>\n",
       "      <td>/usr/local/lib/python3.7/dist-packages/easy_vqa/data/train/images/2583.png</td>\n",
       "      <td>12</td>\n",
       "    </tr>\n",
       "    <tr>\n",
       "      <th>33974</th>\n",
       "      <td>does the image contain a gray shape?</td>\n",
       "      <td>no</td>\n",
       "      <td>/usr/local/lib/python3.7/dist-packages/easy_vqa/data/train/images/3524.png</td>\n",
       "      <td>12</td>\n",
       "    </tr>\n",
       "    <tr>\n",
       "      <th>29430</th>\n",
       "      <td>does the image not contain a blue shape?</td>\n",
       "      <td>yes</td>\n",
       "      <td>/usr/local/lib/python3.7/dist-packages/easy_vqa/data/train/images/3060.png</td>\n",
       "      <td>4</td>\n",
       "    </tr>\n",
       "    <tr>\n",
       "      <th>32973</th>\n",
       "      <td>is there a rectangle in the image?</td>\n",
       "      <td>no</td>\n",
       "      <td>/usr/local/lib/python3.7/dist-packages/easy_vqa/data/train/images/3426.png</td>\n",
       "      <td>12</td>\n",
       "    </tr>\n",
       "  </tbody>\n",
       "</table>\n",
       "</div>"
      ],
      "text/plain": [
       "                                       question answer  \\\n",
       "13418                is there not a teal shape?    yes   \n",
       "24795          does the image contain a circle?     no   \n",
       "33974      does the image contain a gray shape?     no   \n",
       "29430  does the image not contain a blue shape?    yes   \n",
       "32973        is there a rectangle in the image?     no   \n",
       "\n",
       "                                                                       image_path  \\\n",
       "13418  /usr/local/lib/python3.7/dist-packages/easy_vqa/data/train/images/1395.png   \n",
       "24795  /usr/local/lib/python3.7/dist-packages/easy_vqa/data/train/images/2583.png   \n",
       "33974  /usr/local/lib/python3.7/dist-packages/easy_vqa/data/train/images/3524.png   \n",
       "29430  /usr/local/lib/python3.7/dist-packages/easy_vqa/data/train/images/3060.png   \n",
       "32973  /usr/local/lib/python3.7/dist-packages/easy_vqa/data/train/images/3426.png   \n",
       "\n",
       "       label  \n",
       "13418      4  \n",
       "24795     12  \n",
       "33974     12  \n",
       "29430      4  \n",
       "32973     12  "
      ]
     },
     "execution_count": 13,
     "metadata": {},
     "output_type": "execute_result"
    }
   ],
   "source": [
    "train_df.sample(5)"
   ]
  },
  {
   "cell_type": "code",
   "execution_count": null,
   "metadata": {},
   "outputs": [],
   "source": []
  }
 ],
 "metadata": {
  "kernelspec": {
   "display_name": "llm",
   "language": "python",
   "name": "python3"
  },
  "language_info": {
   "codemirror_mode": {
    "name": "ipython",
    "version": 3
   },
   "file_extension": ".py",
   "mimetype": "text/x-python",
   "name": "python",
   "nbconvert_exporter": "python",
   "pygments_lexer": "ipython3",
   "version": "3.11.3"
  },
  "orig_nbformat": 4
 },
 "nbformat": 4,
 "nbformat_minor": 2
}
